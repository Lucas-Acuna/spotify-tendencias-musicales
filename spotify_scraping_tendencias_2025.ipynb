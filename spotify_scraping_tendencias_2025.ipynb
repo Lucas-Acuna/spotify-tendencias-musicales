{
 "cells": [
  {
   "cell_type": "code",
   "execution_count": 2,
   "id": "0b93e3c6-df98-4c05-8669-3bf35ba1d26f",
   "metadata": {},
   "outputs": [],
   "source": [
    "import requests\n",
    "from bs4 import BeautifulSoup\n",
    "import pandas as pd"
   ]
  },
  {
   "cell_type": "code",
   "execution_count": 3,
   "id": "78f7d8f0-6542-4cd8-903e-ab3b4c352081",
   "metadata": {},
   "outputs": [
    {
     "data": {
      "text/html": [
       "<div>\n",
       "<style scoped>\n",
       "    .dataframe tbody tr th:only-of-type {\n",
       "        vertical-align: middle;\n",
       "    }\n",
       "\n",
       "    .dataframe tbody tr th {\n",
       "        vertical-align: top;\n",
       "    }\n",
       "\n",
       "    .dataframe thead th {\n",
       "        text-align: right;\n",
       "    }\n",
       "</style>\n",
       "<table border=\"1\" class=\"dataframe\">\n",
       "  <thead>\n",
       "    <tr style=\"text-align: right;\">\n",
       "      <th></th>\n",
       "      <th>Posición</th>\n",
       "      <th>Artista</th>\n",
       "      <th>Canción</th>\n",
       "      <th>Reproducciones</th>\n",
       "    </tr>\n",
       "  </thead>\n",
       "  <tbody>\n",
       "  </tbody>\n",
       "</table>\n",
       "</div>"
      ],
      "text/plain": [
       "Empty DataFrame\n",
       "Columns: [Posición, Artista, Canción, Reproducciones]\n",
       "Index: []"
      ]
     },
     "execution_count": 3,
     "metadata": {},
     "output_type": "execute_result"
    }
   ],
   "source": [
    "# URL del ranking diario de Spotify Argentina\n",
    "url = \"https://kworb.net/spotify/country/ar_daily.html\"\n",
    "\n",
    "# Hacer la solicitud a la página\n",
    "response = requests.get(url)\n",
    "\n",
    "# Parsear el contenido con BeautifulSoup\n",
    "soup = BeautifulSoup(response.text, \"html.parser\")\n",
    "\n",
    "# Buscar todas las filas de la tabla (menos la cabecera)\n",
    "rows = soup.select(\"table.chart tr\")[1:11]  # Primeros 10 resultados\n",
    "\n",
    "# Crear lista con los datos\n",
    "ranking = []\n",
    "for row in rows:\n",
    "    cols = row.find_all(\"td\")\n",
    "    if len(cols) >= 5:\n",
    "        pos = cols[0].text.strip()\n",
    "        artista = cols[1].text.strip()\n",
    "        cancion = cols[2].text.strip()\n",
    "        plays = cols[3].text.strip()\n",
    "        ranking.append([int(pos), artista, cancion, plays])\n",
    "\n",
    "# Crear DataFrame\n",
    "df = pd.DataFrame(ranking, columns=[\"Posición\", \"Artista\", \"Canción\", \"Reproducciones\"])\n",
    "\n",
    "# Mostrar resultado\n",
    "df"
   ]
  },
  {
   "cell_type": "code",
   "execution_count": 4,
   "id": "a12b8e92-b1c7-4124-a78f-62103d25135a",
   "metadata": {},
   "outputs": [],
   "source": [
    "# Guardar resultado como CSV\n",
    "df.to_csv(\"Top_Spotify_AR_2025-06-04.csv\", index=False, encoding='utf-8-sig')"
   ]
  },
  {
   "cell_type": "code",
   "execution_count": null,
   "id": "ee199be7-f9e5-4bc1-8745-335783e03bd3",
   "metadata": {},
   "outputs": [],
   "source": []
  }
 ],
 "metadata": {
  "kernelspec": {
   "display_name": "Python 3 (ipykernel)",
   "language": "python",
   "name": "python3"
  },
  "language_info": {
   "codemirror_mode": {
    "name": "ipython",
    "version": 3
   },
   "file_extension": ".py",
   "mimetype": "text/x-python",
   "name": "python",
   "nbconvert_exporter": "python",
   "pygments_lexer": "ipython3",
   "version": "3.12.5"
  }
 },
 "nbformat": 4,
 "nbformat_minor": 5
}
